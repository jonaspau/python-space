{
 "cells": [
  {
   "cell_type": "markdown",
   "metadata": {},
   "source": [
    "# Artemis Rock Classifier\n",
    "\n",
    "learning project from learn.microsoft.com\n"
   ]
  },
  {
   "cell_type": "code",
   "execution_count": 1,
   "metadata": {},
   "outputs": [
    {
     "name": "stdout",
     "output_type": "stream",
     "text": [
      "Artemis Rover Rock Scanner Starting\n"
     ]
    }
   ],
   "source": [
    "print(\"Artemis Rover Rock Scanner Starting\")"
   ]
  },
  {
   "cell_type": "markdown",
   "metadata": {},
   "source": [
    "For beginners we need to create some variables for counting, and a list.\n",
    "\n",
    "We also need to store the file path to the txt to easier refer to it in the code. "
   ]
  },
  {
   "cell_type": "code",
   "execution_count": 2,
   "metadata": {},
   "outputs": [],
   "source": [
    "# Initialize some variables for the program:\n",
    "basalt = 0\n",
    "breccia = 0\n",
    "highland = 0\n",
    "regolith = 0\n",
    "\n",
    "rockList = []\n",
    "\n",
    "filePath = \"rocks.txt\""
   ]
  },
  {
   "cell_type": "code",
   "execution_count": 3,
   "metadata": {},
   "outputs": [],
   "source": [
    "# Open the file\n",
    "fileObject = open(filePath, \"w\")\n",
    "\n",
    "# Add some data to the file\n",
    "fileObject.writelines([\"Reading Rocks\\n\",\"basalt\\n\",\"basalt\\n\",\"breccia\\n\",\"highland\\n\",\"regolith\\n\",\"highland\\n\",\"breccia\\n\",\"highland\\n\",\"regolith\\n\",\"regolith\\n\",\"basalt\\n\",\"highland\\n\",\"basalt\\n\",\"breccia\\n\",\"breccia\\n\",\"regolith\\n\",\"breccia\\n\",\"highland\\n\",\"highland\\n\",\"breccia\\n\",\"basalt\\n\",\"diamond\"])\n",
    "\n",
    "# Save the file\n",
    "fileObject.close()"
   ]
  },
  {
   "cell_type": "code",
   "execution_count": 4,
   "metadata": {},
   "outputs": [],
   "source": [
    "# read the content of the file:\n",
    "fileObject = open(filePath)\n",
    "\n",
    "# add each line as an item to rockList\n",
    "rockList = fileObject.readlines()\n",
    "\n",
    "# Close the file\n",
    "fileObject.close()"
   ]
  },
  {
   "cell_type": "code",
   "execution_count": 5,
   "metadata": {},
   "outputs": [],
   "source": [
    "# Function that counts each of the rock types in rockList\n",
    "def countMoonRocks(rock):\n",
    "    global basalt\n",
    "    global breccia\n",
    "    global highland\n",
    "    global regolith\n",
    "\n",
    "    rock = rock.lower()\n",
    "\n",
    "    if (\"basalt\" in rock):\n",
    "        print(\"Found a basalt\")\n",
    "        basalt += 1\n",
    "    elif (\"breccia\" in rock):\n",
    "        print(\"Found some breccia\")\n",
    "        breccia += 1\n",
    "    elif (\"highland\" in rock):\n",
    "        print(\"Found highland\")\n",
    "        highland += 1\n",
    "    elif (\"regolith\" in rock):\n",
    "        print(\"Regolith, score\")\n",
    "        regolith +=1\n",
    "    else:\n",
    "        print(\"Not a moonstone\")\n",
    "    return"
   ]
  },
  {
   "cell_type": "code",
   "execution_count": 6,
   "metadata": {},
   "outputs": [
    {
     "name": "stdout",
     "output_type": "stream",
     "text": [
      "Not a moonstone\n",
      "Found a basalt\n",
      "Found a basalt\n",
      "Found some breccia\n",
      "Found highland\n",
      "Regolith, score\n",
      "Found highland\n",
      "Found some breccia\n",
      "Found highland\n",
      "Regolith, score\n",
      "Regolith, score\n",
      "Found a basalt\n",
      "Found highland\n",
      "Found a basalt\n",
      "Found some breccia\n",
      "Found some breccia\n",
      "Regolith, score\n",
      "Found some breccia\n",
      "Found highland\n",
      "Found highland\n",
      "Found some breccia\n",
      "Found a basalt\n",
      "Not a moonstone\n"
     ]
    }
   ],
   "source": [
    "# Loop through each line in rockList\n",
    "for rock in rockList:\n",
    "    countMoonRocks(rock)"
   ]
  },
  {
   "cell_type": "code",
   "execution_count": 7,
   "metadata": {},
   "outputs": [
    {
     "name": "stdout",
     "output_type": "stream",
     "text": [
      "Number of Basalt: 5\n",
      "Number of Breccia: 6\n",
      "Number of Highland: 6\n",
      "Number of Regolith: 4\n"
     ]
    }
   ],
   "source": [
    "print(f\"Number of Basalt: {basalt}\")\n",
    "print(f\"Number of Breccia: {breccia}\")\n",
    "print(f\"Number of Highland: {highland}\")\n",
    "print(f\"Number of Regolith: {regolith}\")\n"
   ]
  },
  {
   "cell_type": "code",
   "execution_count": 8,
   "metadata": {},
   "outputs": [
    {
     "name": "stdout",
     "output_type": "stream",
     "text": [
      "Max: 6\n",
      "Min: 4\n"
     ]
    }
   ],
   "source": [
    "print(f\"Max: {max(basalt, breccia, highland, regolith)}\")\n",
    "print(f\"Min: {min(basalt, breccia, highland, regolith)}\")"
   ]
  },
  {
   "cell_type": "code",
   "execution_count": null,
   "metadata": {},
   "outputs": [],
   "source": []
  }
 ],
 "metadata": {
  "kernelspec": {
   "display_name": "Python 3",
   "language": "python",
   "name": "python3"
  },
  "language_info": {
   "codemirror_mode": {
    "name": "ipython",
    "version": 3
   },
   "file_extension": ".py",
   "mimetype": "text/x-python",
   "name": "python",
   "nbconvert_exporter": "python",
   "pygments_lexer": "ipython3",
   "version": "3.12.1"
  }
 },
 "nbformat": 4,
 "nbformat_minor": 2
}
